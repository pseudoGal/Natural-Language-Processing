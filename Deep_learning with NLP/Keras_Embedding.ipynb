# -*- coding: utf-8 -*-
"""Keras_Embedding.ipynb
Aug 16 2021
@author: Pratiksha
"""

from numpy import array
from numpy import asarray
from numpy import zeros
from keras.preprocessing.text import one_hot
from keras.preprocessing.sequence import pad_sequences
from keras.models import Sequential
from keras.layers import Embedding
from keras.layers import Flatten
from keras.layers import Dense


docs =['Well done!',
       'Good work!',
       'Great effort',
       'Nice work!',
       'Excellent!',
       'Weak',
       'Poor effort',
       'not good',
       'poor work',
       'could have done better']

#define labels
labels = array([1,1,1,1,1,0,0,0,0,0]
               )

vocab_size = 50
encoded_docs = [one_hot(d, vocab_size) for d in docs]
print(encoded_docs)

#padding upto length of 4
max_length = 4
padded_docs = pad_sequences(encoded_docs, maxlen=max_length,padding='post')
print(padded_docs)

#define the model

model = Sequential()
model.add(Embedding(vocab_size, 8, input_length=max_length))
model.add(Flatten())
model.add(Dense(1,activation='sigmoid'))

#compile model

model.compile(optimizer='adam', loss = 'binary_crossentropy', metrics=['acc'])
model.summary()

model.fit(padded_docs, labels, epochs = 50, verbose=0)

loss, accuracy = model.evaluate(padded_docs,labels,verbose = 0)
print('Accuracy: %f' % (accuracy*100))
