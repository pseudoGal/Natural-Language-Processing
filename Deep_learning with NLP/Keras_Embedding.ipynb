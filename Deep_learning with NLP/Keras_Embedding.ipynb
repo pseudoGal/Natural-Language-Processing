{
  "nbformat": 4,
  "nbformat_minor": 0,
  "metadata": {
    "colab": {
      "name": "Keras_Embedding.ipynb",
      "private_outputs": true,
      "provenance": [],
      "collapsed_sections": []
    },
    "kernelspec": {
      "name": "python3",
      "display_name": "Python 3"
    },
    "language_info": {
      "name": "python"
    }
  },
  "cells": [
    {
      "cell_type": "code",
      "metadata": {
        "id": "Fvt2nRQ-RDbq"
      },
      "source": [
        "from numpy import array\n",
        "from numpy import asarray\n",
        "from numpy import zeros"
      ],
      "execution_count": null,
      "outputs": []
    },
    {
      "cell_type": "code",
      "metadata": {
        "id": "p05s4FzcTJH-"
      },
      "source": [
        "from keras.preprocessing.text import one_hot\n",
        "from keras.preprocessing.sequence import pad_sequences\n",
        "from keras.models import Sequential\n",
        "from keras.layers import Embedding\n",
        "from keras.layers import Flatten\n",
        "from keras.layers import Dense"
      ],
      "execution_count": null,
      "outputs": []
    },
    {
      "cell_type": "code",
      "metadata": {
        "id": "lcXOYIyiSYs_"
      },
      "source": [
        "docs =['Well done!',\n",
        "       'Good work!',\n",
        "       'Great effort',\n",
        "       'Nice work!',\n",
        "       'Excellent!',\n",
        "       'Weak',\n",
        "       'Poor effort',\n",
        "       'not good',\n",
        "       'poor work',\n",
        "       'could have done better']\n",
        "#define labels\n",
        "labels = array([1,1,1,1,1,0,0,0,0,0]\n",
        "               )       "
      ],
      "execution_count": null,
      "outputs": []
    },
    {
      "cell_type": "code",
      "metadata": {
        "id": "7hS3_xsICthr"
      },
      "source": [
        "vocab_size = 50\n",
        "encoded_docs = [one_hot(d, vocab_size) for d in docs]\n",
        "print(encoded_docs)"
      ],
      "execution_count": null,
      "outputs": []
    },
    {
      "cell_type": "code",
      "metadata": {
        "id": "KlnJdiwiC_NR"
      },
      "source": [
        "#padding upto length of 4\n",
        "max_length = 4\n",
        "padded_docs = pad_sequences(encoded_docs, maxlen=max_length,padding='post')\n",
        "print(padded_docs)"
      ],
      "execution_count": null,
      "outputs": []
    },
    {
      "cell_type": "code",
      "metadata": {
        "id": "7RJ3wPMgDkfq"
      },
      "source": [
        "#define the model\n",
        "\n",
        "model = Sequential()\n",
        "model.add(Embedding(vocab_size, 8, input_length=max_length))\n",
        "model.add(Flatten())\n",
        "model.add(Dense(1,activation='sigmoid'))\n",
        "#compile model\n",
        "model.compile(optimizer='adam', loss = 'binary_crossentropy', metrics=['acc'])\n",
        "model.summary()\n",
        "model.fit(padded_docs, labels, epochs = 50, verbose=0)\n",
        "loss, accuracy = model.evaluate(padded_docs,labels,verbose = 0)\n",
        "print('Accuracy: %f' % (accuracy*100))"
      ],
      "execution_count": null,
      "outputs": []
    },
    {
      "cell_type": "code",
      "metadata": {
        "id": "Rci6m-D-G0Ay"
      },
      "source": [
        ""
      ],
      "execution_count": null,
      "outputs": []
    }
  ]
}
